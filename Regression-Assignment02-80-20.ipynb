{
 "cells": [
  {
   "cell_type": "markdown",
   "id": "a8337499",
   "metadata": {},
   "source": [
    "## Case Study 3: Building and Evaluating Predictive Models\n",
    "\n",
    "## Regression"
   ]
  },
  {
   "cell_type": "code",
   "execution_count": 32,
   "id": "e63c6830",
   "metadata": {},
   "outputs": [],
   "source": [
    "def data_prep():\n",
    "   \n",
    "    df = loadCsv()\n",
    "    df = convertDataTypes(df)\n",
    "    df = mapToNumericType(df)\n",
    "    # one-hot encoding\n",
    "    df = pd.get_dummies(df)\n",
    "    \n",
    "    return df"
   ]
  },
  {
   "cell_type": "code",
   "execution_count": 33,
   "id": "5b709cbe",
   "metadata": {},
   "outputs": [],
   "source": [
    "def loadCsv():\n",
    "    df = pd.read_csv('Project datasets/D2.csv')\n",
    "    return df"
   ]
  },
  {
   "cell_type": "code",
   "execution_count": 34,
   "id": "ae59942d",
   "metadata": {},
   "outputs": [],
   "source": [
    "def convertDataTypes(df):\n",
    "    # change DemCluster from interval/integer to nominal/str\n",
    "    df['contacts_count'] = df['contacts_count'].astype('int64')\n",
    "    df['house_count'] = df['house_count'].astype('int64')\n",
    "    df['alcohol'] = df['alcohol'].astype('int64')\n",
    "    return df"
   ]
  },
  {
   "cell_type": "code",
   "execution_count": 35,
   "id": "34f65643",
   "metadata": {},
   "outputs": [],
   "source": [
    "#mapping categorical to numeric type\n",
    "def mapToNumericType(df):\n",
    "    # mapping\n",
    "\n",
    "    insurance_map = {'yes':1, 'no': 0}\n",
    "    df['insurance'] = df['insurance'].map(insurance_map)\n",
    "\n",
    "    immigrant_map = {'native':0, 'immigrant': 1}\n",
    "    df['immigrant'] = df['immigrant'].map(immigrant_map)\n",
    "    \n",
    "    return df\n"
   ]
  },
  {
   "cell_type": "code",
   "execution_count": 36,
   "id": "e9e5e78f",
   "metadata": {},
   "outputs": [
    {
     "name": "stdout",
     "output_type": "stream",
     "text": [
      "      height  weight  insurance  immigrant  alcohol  contacts_count  \\\n",
      "0        174      64          1          0        3               7   \n",
      "1        182     118          1          0        0               7   \n",
      "2        184     118          1          0        0               7   \n",
      "3        164      72          1          0       14               7   \n",
      "4        192      92          1          0        0               7   \n",
      "...      ...     ...        ...        ...      ...             ...   \n",
      "6105     174      72          1          0        3               5   \n",
      "6106     164     130          0          0        3              21   \n",
      "6107     162      56          1          0        0              10   \n",
      "6108     158      70          1          1        3              14   \n",
      "6109     170      86          1          0        0              11   \n",
      "\n",
      "      house_count  worried  covid19_positive  gender_female  ...  \\\n",
      "0               2        4                 1              0  ...   \n",
      "1               3        4                 1              0  ...   \n",
      "2               3        4                 1              0  ...   \n",
      "3               3        4                 1              1  ...   \n",
      "4               1        4                 1              0  ...   \n",
      "...           ...      ...               ...            ...  ...   \n",
      "6105            3        5                 0              0  ...   \n",
      "6106            4        5                 0              1  ...   \n",
      "6107            3        3                 0              1  ...   \n",
      "6108            1        5                 0              1  ...   \n",
      "6109            1        4                 0              1  ...   \n",
      "\n",
      "      smoking_quit5  smoking_vape  smoking_yesheavy  smoking_yeslight  \\\n",
      "0                 0             0                 0                 0   \n",
      "1                 0             0                 0                 0   \n",
      "2                 0             0                 0                 0   \n",
      "3                 0             0                 0                 0   \n",
      "4                 0             0                 0                 0   \n",
      "...             ...           ...               ...               ...   \n",
      "6105              0             0                 1                 0   \n",
      "6106              0             0                 0                 0   \n",
      "6107              0             1                 0                 0   \n",
      "6108              1             0                 0                 0   \n",
      "6109              0             0                 0                 0   \n",
      "\n",
      "      smoking_yesmedium  working_home  working_never  working_stopped  \\\n",
      "0                     0             0              1                0   \n",
      "1                     0             0              1                0   \n",
      "2                     0             0              1                0   \n",
      "3                     0             0              1                0   \n",
      "4                     0             0              1                0   \n",
      "...                 ...           ...            ...              ...   \n",
      "6105                  0             0              0                0   \n",
      "6106                  0             0              1                0   \n",
      "6107                  0             0              0                0   \n",
      "6108                  0             0              0                0   \n",
      "6109                  0             0              0                0   \n",
      "\n",
      "      working_travel critical  working_travel non critical  \n",
      "0                           0                            0  \n",
      "1                           0                            0  \n",
      "2                           0                            0  \n",
      "3                           0                            0  \n",
      "4                           0                            0  \n",
      "...                       ...                          ...  \n",
      "6105                        1                            0  \n",
      "6106                        0                            0  \n",
      "6107                        0                            1  \n",
      "6108                        1                            0  \n",
      "6109                        0                            1  \n",
      "\n",
      "[6110 rows x 55 columns]\n"
     ]
    }
   ],
   "source": [
    "#data preprocessing\n",
    "import numpy as np\n",
    "import pandas as pd\n",
    "from sklearn.model_selection import train_test_split\n",
    "\n",
    "df = data_prep()\n",
    "print(df)\n",
    "# target/input split\n",
    "y = df['covid19_positive']\n",
    "X = df.drop(['covid19_positive'], axis=1)\n",
    "\n",
    "X_mat = X.to_numpy()\n",
    "X_mat\n",
    "\n",
    "# setting random state\n",
    "rs = 10\n",
    "\n",
    "#splitting\n",
    "X_train, X_test, y_train, y_test = train_test_split(X_mat, y, test_size=0.3, stratify=y, random_state=rs)\n"
   ]
  },
  {
   "cell_type": "code",
   "execution_count": 37,
   "id": "f4b073c1",
   "metadata": {},
   "outputs": [],
   "source": [
    "#scaling to a one scale\n",
    "\n",
    "from sklearn.preprocessing import StandardScaler\n",
    "\n",
    "# initialise a standard scaler object\n",
    "scaler = StandardScaler()\n",
    "\n",
    "# learn the mean and std.dev of variables from training data\n",
    "# then use the learned values to transform training data\n",
    "X_train = scaler.fit_transform(X_train, y_train)\n",
    "\n",
    "\n",
    "\n",
    "# use the statistic that you learned from training to transform test data\n",
    "# NEVER learn from test data, this is supposed to be a set of dataset\n",
    "# that the model has never seen before\n",
    "X_test = scaler.transform(X_test)"
   ]
  },
  {
   "cell_type": "markdown",
   "id": "4dd8e404",
   "metadata": {},
   "source": [
    "**Training logistic regression**"
   ]
  },
  {
   "cell_type": "code",
   "execution_count": 38,
   "id": "7a032fd7",
   "metadata": {},
   "outputs": [
    {
     "data": {
      "text/html": [
       "<style>#sk-container-id-5 {color: black;background-color: white;}#sk-container-id-5 pre{padding: 0;}#sk-container-id-5 div.sk-toggleable {background-color: white;}#sk-container-id-5 label.sk-toggleable__label {cursor: pointer;display: block;width: 100%;margin-bottom: 0;padding: 0.3em;box-sizing: border-box;text-align: center;}#sk-container-id-5 label.sk-toggleable__label-arrow:before {content: \"▸\";float: left;margin-right: 0.25em;color: #696969;}#sk-container-id-5 label.sk-toggleable__label-arrow:hover:before {color: black;}#sk-container-id-5 div.sk-estimator:hover label.sk-toggleable__label-arrow:before {color: black;}#sk-container-id-5 div.sk-toggleable__content {max-height: 0;max-width: 0;overflow: hidden;text-align: left;background-color: #f0f8ff;}#sk-container-id-5 div.sk-toggleable__content pre {margin: 0.2em;color: black;border-radius: 0.25em;background-color: #f0f8ff;}#sk-container-id-5 input.sk-toggleable__control:checked~div.sk-toggleable__content {max-height: 200px;max-width: 100%;overflow: auto;}#sk-container-id-5 input.sk-toggleable__control:checked~label.sk-toggleable__label-arrow:before {content: \"▾\";}#sk-container-id-5 div.sk-estimator input.sk-toggleable__control:checked~label.sk-toggleable__label {background-color: #d4ebff;}#sk-container-id-5 div.sk-label input.sk-toggleable__control:checked~label.sk-toggleable__label {background-color: #d4ebff;}#sk-container-id-5 input.sk-hidden--visually {border: 0;clip: rect(1px 1px 1px 1px);clip: rect(1px, 1px, 1px, 1px);height: 1px;margin: -1px;overflow: hidden;padding: 0;position: absolute;width: 1px;}#sk-container-id-5 div.sk-estimator {font-family: monospace;background-color: #f0f8ff;border: 1px dotted black;border-radius: 0.25em;box-sizing: border-box;margin-bottom: 0.5em;}#sk-container-id-5 div.sk-estimator:hover {background-color: #d4ebff;}#sk-container-id-5 div.sk-parallel-item::after {content: \"\";width: 100%;border-bottom: 1px solid gray;flex-grow: 1;}#sk-container-id-5 div.sk-label:hover label.sk-toggleable__label {background-color: #d4ebff;}#sk-container-id-5 div.sk-serial::before {content: \"\";position: absolute;border-left: 1px solid gray;box-sizing: border-box;top: 0;bottom: 0;left: 50%;z-index: 0;}#sk-container-id-5 div.sk-serial {display: flex;flex-direction: column;align-items: center;background-color: white;padding-right: 0.2em;padding-left: 0.2em;position: relative;}#sk-container-id-5 div.sk-item {position: relative;z-index: 1;}#sk-container-id-5 div.sk-parallel {display: flex;align-items: stretch;justify-content: center;background-color: white;position: relative;}#sk-container-id-5 div.sk-item::before, #sk-container-id-5 div.sk-parallel-item::before {content: \"\";position: absolute;border-left: 1px solid gray;box-sizing: border-box;top: 0;bottom: 0;left: 50%;z-index: -1;}#sk-container-id-5 div.sk-parallel-item {display: flex;flex-direction: column;z-index: 1;position: relative;background-color: white;}#sk-container-id-5 div.sk-parallel-item:first-child::after {align-self: flex-end;width: 50%;}#sk-container-id-5 div.sk-parallel-item:last-child::after {align-self: flex-start;width: 50%;}#sk-container-id-5 div.sk-parallel-item:only-child::after {width: 0;}#sk-container-id-5 div.sk-dashed-wrapped {border: 1px dashed gray;margin: 0 0.4em 0.5em 0.4em;box-sizing: border-box;padding-bottom: 0.4em;background-color: white;}#sk-container-id-5 div.sk-label label {font-family: monospace;font-weight: bold;display: inline-block;line-height: 1.2em;}#sk-container-id-5 div.sk-label-container {text-align: center;}#sk-container-id-5 div.sk-container {/* jupyter's `normalize.less` sets `[hidden] { display: none; }` but bootstrap.min.css set `[hidden] { display: none !important; }` so we also need the `!important` here to be able to override the default hidden behavior on the sphinx rendered scikit-learn.org. See: https://github.com/scikit-learn/scikit-learn/issues/21755 */display: inline-block !important;position: relative;}#sk-container-id-5 div.sk-text-repr-fallback {display: none;}</style><div id=\"sk-container-id-5\" class=\"sk-top-container\"><div class=\"sk-text-repr-fallback\"><pre>LogisticRegression(random_state=10)</pre><b>In a Jupyter environment, please rerun this cell to show the HTML representation or trust the notebook. <br />On GitHub, the HTML representation is unable to render, please try loading this page with nbviewer.org.</b></div><div class=\"sk-container\" hidden><div class=\"sk-item\"><div class=\"sk-estimator sk-toggleable\"><input class=\"sk-toggleable__control sk-hidden--visually\" id=\"sk-estimator-id-7\" type=\"checkbox\" checked><label for=\"sk-estimator-id-7\" class=\"sk-toggleable__label sk-toggleable__label-arrow\">LogisticRegression</label><div class=\"sk-toggleable__content\"><pre>LogisticRegression(random_state=10)</pre></div></div></div></div></div>"
      ],
      "text/plain": [
       "LogisticRegression(random_state=10)"
      ]
     },
     "execution_count": 38,
     "metadata": {},
     "output_type": "execute_result"
    }
   ],
   "source": [
    "from sklearn.linear_model import LogisticRegression\n",
    "\n",
    "model = LogisticRegression(random_state=rs)\n",
    "\n",
    "# fit it to training data\n",
    "model.fit(X_train, y_train)"
   ]
  },
  {
   "cell_type": "code",
   "execution_count": 39,
   "id": "dedd5dad",
   "metadata": {},
   "outputs": [
    {
     "name": "stdout",
     "output_type": "stream",
     "text": [
      "Train accuracy: 0.6972176759410802\n",
      "Test accuracy: 0.6879432624113475\n",
      "              precision    recall  f1-score   support\n",
      "\n",
      "           0       0.71      0.79      0.75      1070\n",
      "           1       0.65      0.55      0.60       763\n",
      "\n",
      "    accuracy                           0.69      1833\n",
      "   macro avg       0.68      0.67      0.67      1833\n",
      "weighted avg       0.68      0.69      0.68      1833\n",
      "\n"
     ]
    }
   ],
   "source": [
    "from sklearn.metrics import classification_report, accuracy_score\n",
    "# training and test accuracy\n",
    "print(\"Train accuracy:\", model.score(X_train, y_train))\n",
    "print(\"Test accuracy:\", model.score(X_test, y_test))\n",
    "\n",
    "# classification report on test data\n",
    "y_pred = model.predict(X_test)\n",
    "print(classification_report(y_test, y_pred))"
   ]
  },
  {
   "cell_type": "markdown",
   "id": "ea951e44",
   "metadata": {},
   "source": [
    "The model does not produce an acceptable accuracy score on training data. The training accuracy is slightly higher than the test accuracy which may indicate slight overfitting but that needs to be investigated. We will tune this logistic regression model later using GridSearchCV to imrprove the accuracy.\n"
   ]
  },
  {
   "cell_type": "markdown",
   "id": "43c835b3",
   "metadata": {},
   "source": [
    "The linear/logistic regression model assumes a linear correlation between input features and target values. This relationship is reflected in the weight values. By using this coefficient values we can say the relations of features"
   ]
  },
  {
   "cell_type": "code",
   "execution_count": 10,
   "id": "6d13ed32",
   "metadata": {},
   "outputs": [
    {
     "name": "stdout",
     "output_type": "stream",
     "text": [
      "[[-0.24890769  0.31627311  0.13528532 -0.14155121  0.00548429 -0.02051598\n",
      "   0.23994946  0.10863281 -0.06861754  0.0608372   0.08030661 -0.03921922\n",
      "   0.23212219 -0.05574902  0.08577206  0.04790336 -0.06373345  0.01523689\n",
      "  -0.15145331 -0.09300041  0.15210127  0.20239669 -0.04950819  0.07382112\n",
      "  -0.01566956 -0.02906288 -0.00145511  0.0019877  -0.03139235 -0.01035615\n",
      "   0.0382216   0.04751377 -0.34844713  0.00422614  0.31667123 -0.06132555\n",
      "  -0.01893036  0.02218196  0.0018235   0.0293783   0.02156745 -0.03609301\n",
      "   0.01919546  0.02893437 -0.03078311  0.01374469 -0.00418232  0.00756852\n",
      "   0.04913509 -0.09607252  0.00507891 -0.04231915  0.16580021 -0.08072391]]\n"
     ]
    }
   ],
   "source": [
    "print(model.coef_)"
   ]
  },
  {
   "cell_type": "code",
   "execution_count": 12,
   "id": "a4670898",
   "metadata": {},
   "outputs": [
    {
     "name": "stdout",
     "output_type": "stream",
     "text": [
      "height : -0.24890769133540921\n",
      "weight : 0.31627310913582046\n",
      "insurance : 0.13528531552068518\n",
      "immigrant : -0.14155120970206425\n",
      "alcohol : 0.005484291414198865\n",
      "contacts_count : -0.020515975069363732\n",
      "house_count : 0.23994946265422906\n",
      "worried : 0.10863281254625606\n",
      "gender_female : -0.06861753815134271\n",
      "gender_male : 0.06083719504178121\n",
      "gender_other : 0.08030661091914368\n",
      "age_0_10 : -0.039219221512097904\n",
      "age_100_110 : 0.2321221864216097\n",
      "age_10_20 : -0.0557490180099714\n",
      "age_20_30 : 0.08577206216715834\n",
      "age_30_40 : 0.04790336392686211\n",
      "age_40_50 : -0.0637334527576382\n",
      "age_50_60 : 0.015236894499603615\n",
      "age_60_70 : -0.15145331248787178\n",
      "age_70_80 : -0.09300041143806471\n"
     ]
    }
   ],
   "source": [
    "feature_names = X.columns\n",
    "coef = model.coef_[0]\n",
    "\n",
    "# limit to 20 features, you can comment the following line to print out everything\n",
    "coef = coef[:20]\n",
    "\n",
    "for i in range(len(coef)):\n",
    "    print(feature_names[i], ':', coef[i])"
   ]
  },
  {
   "cell_type": "markdown",
   "id": "024d5367",
   "metadata": {},
   "source": [
    "In addition to understanding positive/negative correlations between features and prediction values, it is important to learn how much a feature impacts the overall prediction value (i.e. feature importance). One way to answer this question is by looking at the absolute value of coefficients. Changes in an important variable (either positive or negative) should correlate to a larger impact to prediction value, thus the coefficient assigned to this variable will have a large absolute value. "
   ]
  },
  {
   "cell_type": "code",
   "execution_count": 40,
   "id": "b22d16d0",
   "metadata": {},
   "outputs": [
    {
     "name": "stdout",
     "output_type": "stream",
     "text": [
      "income_high : -0.34844713108961634\n",
      "income_med : 0.31667122600071024\n",
      "weight : 0.31627310913582046\n",
      "height : -0.24890769133540921\n",
      "house_count : 0.23994946265422906\n",
      "age_100_110 : 0.2321221864216097\n",
      "age_90_100 : 0.20239669226349405\n",
      "working_travel critical : 0.16580021078791768\n",
      "age_80_90 : 0.1521012678897797\n",
      "age_60_70 : -0.15145331248787178\n",
      "immigrant : -0.14155120970206425\n",
      "insurance : 0.13528531552068518\n",
      "worried : 0.10863281254625606\n",
      "working_home : -0.09607252177663285\n",
      "age_70_80 : -0.09300041143806471\n",
      "age_20_30 : 0.08577206216715834\n",
      "working_travel non critical : -0.08072391097706541\n",
      "gender_other : 0.08030661091914368\n",
      "blood_type_abp : 0.07382112118643376\n",
      "gender_female : -0.06861753815134271\n"
     ]
    }
   ],
   "source": [
    "# grab feature importances from the model and feature name from the original X\n",
    "coef = model.coef_[0]\n",
    "feature_names = X.columns\n",
    "\n",
    "# sort them out in descending order\n",
    "indices = np.argsort(np.absolute(coef))\n",
    "indices = np.flip(indices, axis=0)\n",
    "\n",
    "# limit to 20 features, you can leave this out to print out everything\n",
    "indices = indices[:20]\n",
    "\n",
    "for i in indices:\n",
    "    print(feature_names[i], ':', coef[i])"
   ]
  },
  {
   "cell_type": "markdown",
   "id": "846379b4",
   "metadata": {},
   "source": [
    "Positive coefficient means positive change in the input feature has positive correlation to the prediction value. \n",
    "income_high has a negative corelation with covid19_positive. income_high is less likely to be covid19_positive. \n",
    "income_med has a positive corelation with covid19_positive. income_med is more likely to be covid19_positive."
   ]
  },
  {
   "cell_type": "markdown",
   "id": "b36b01b4",
   "metadata": {},
   "source": [
    "## Finding optimal hyperparameters with GridSearchCV \n",
    "\n",
    "tune  hyperparameter regularisation strength to overcome overfitting problem "
   ]
  },
  {
   "cell_type": "code",
   "execution_count": 41,
   "id": "86ee1df3",
   "metadata": {},
   "outputs": [
    {
     "data": {
      "text/html": [
       "<style>#sk-container-id-6 {color: black;background-color: white;}#sk-container-id-6 pre{padding: 0;}#sk-container-id-6 div.sk-toggleable {background-color: white;}#sk-container-id-6 label.sk-toggleable__label {cursor: pointer;display: block;width: 100%;margin-bottom: 0;padding: 0.3em;box-sizing: border-box;text-align: center;}#sk-container-id-6 label.sk-toggleable__label-arrow:before {content: \"▸\";float: left;margin-right: 0.25em;color: #696969;}#sk-container-id-6 label.sk-toggleable__label-arrow:hover:before {color: black;}#sk-container-id-6 div.sk-estimator:hover label.sk-toggleable__label-arrow:before {color: black;}#sk-container-id-6 div.sk-toggleable__content {max-height: 0;max-width: 0;overflow: hidden;text-align: left;background-color: #f0f8ff;}#sk-container-id-6 div.sk-toggleable__content pre {margin: 0.2em;color: black;border-radius: 0.25em;background-color: #f0f8ff;}#sk-container-id-6 input.sk-toggleable__control:checked~div.sk-toggleable__content {max-height: 200px;max-width: 100%;overflow: auto;}#sk-container-id-6 input.sk-toggleable__control:checked~label.sk-toggleable__label-arrow:before {content: \"▾\";}#sk-container-id-6 div.sk-estimator input.sk-toggleable__control:checked~label.sk-toggleable__label {background-color: #d4ebff;}#sk-container-id-6 div.sk-label input.sk-toggleable__control:checked~label.sk-toggleable__label {background-color: #d4ebff;}#sk-container-id-6 input.sk-hidden--visually {border: 0;clip: rect(1px 1px 1px 1px);clip: rect(1px, 1px, 1px, 1px);height: 1px;margin: -1px;overflow: hidden;padding: 0;position: absolute;width: 1px;}#sk-container-id-6 div.sk-estimator {font-family: monospace;background-color: #f0f8ff;border: 1px dotted black;border-radius: 0.25em;box-sizing: border-box;margin-bottom: 0.5em;}#sk-container-id-6 div.sk-estimator:hover {background-color: #d4ebff;}#sk-container-id-6 div.sk-parallel-item::after {content: \"\";width: 100%;border-bottom: 1px solid gray;flex-grow: 1;}#sk-container-id-6 div.sk-label:hover label.sk-toggleable__label {background-color: #d4ebff;}#sk-container-id-6 div.sk-serial::before {content: \"\";position: absolute;border-left: 1px solid gray;box-sizing: border-box;top: 0;bottom: 0;left: 50%;z-index: 0;}#sk-container-id-6 div.sk-serial {display: flex;flex-direction: column;align-items: center;background-color: white;padding-right: 0.2em;padding-left: 0.2em;position: relative;}#sk-container-id-6 div.sk-item {position: relative;z-index: 1;}#sk-container-id-6 div.sk-parallel {display: flex;align-items: stretch;justify-content: center;background-color: white;position: relative;}#sk-container-id-6 div.sk-item::before, #sk-container-id-6 div.sk-parallel-item::before {content: \"\";position: absolute;border-left: 1px solid gray;box-sizing: border-box;top: 0;bottom: 0;left: 50%;z-index: -1;}#sk-container-id-6 div.sk-parallel-item {display: flex;flex-direction: column;z-index: 1;position: relative;background-color: white;}#sk-container-id-6 div.sk-parallel-item:first-child::after {align-self: flex-end;width: 50%;}#sk-container-id-6 div.sk-parallel-item:last-child::after {align-self: flex-start;width: 50%;}#sk-container-id-6 div.sk-parallel-item:only-child::after {width: 0;}#sk-container-id-6 div.sk-dashed-wrapped {border: 1px dashed gray;margin: 0 0.4em 0.5em 0.4em;box-sizing: border-box;padding-bottom: 0.4em;background-color: white;}#sk-container-id-6 div.sk-label label {font-family: monospace;font-weight: bold;display: inline-block;line-height: 1.2em;}#sk-container-id-6 div.sk-label-container {text-align: center;}#sk-container-id-6 div.sk-container {/* jupyter's `normalize.less` sets `[hidden] { display: none; }` but bootstrap.min.css set `[hidden] { display: none !important; }` so we also need the `!important` here to be able to override the default hidden behavior on the sphinx rendered scikit-learn.org. See: https://github.com/scikit-learn/scikit-learn/issues/21755 */display: inline-block !important;position: relative;}#sk-container-id-6 div.sk-text-repr-fallback {display: none;}</style><div id=\"sk-container-id-6\" class=\"sk-top-container\"><div class=\"sk-text-repr-fallback\"><pre>GridSearchCV(cv=10, estimator=LogisticRegression(random_state=10), n_jobs=-1,\n",
       "             param_grid={&#x27;C&#x27;: [1e-06, 1e-05, 0.0001, 0.001, 0.01, 0.1, 1, 10,\n",
       "                               100, 1000]},\n",
       "             return_train_score=True)</pre><b>In a Jupyter environment, please rerun this cell to show the HTML representation or trust the notebook. <br />On GitHub, the HTML representation is unable to render, please try loading this page with nbviewer.org.</b></div><div class=\"sk-container\" hidden><div class=\"sk-item sk-dashed-wrapped\"><div class=\"sk-label-container\"><div class=\"sk-label sk-toggleable\"><input class=\"sk-toggleable__control sk-hidden--visually\" id=\"sk-estimator-id-8\" type=\"checkbox\" ><label for=\"sk-estimator-id-8\" class=\"sk-toggleable__label sk-toggleable__label-arrow\">GridSearchCV</label><div class=\"sk-toggleable__content\"><pre>GridSearchCV(cv=10, estimator=LogisticRegression(random_state=10), n_jobs=-1,\n",
       "             param_grid={&#x27;C&#x27;: [1e-06, 1e-05, 0.0001, 0.001, 0.01, 0.1, 1, 10,\n",
       "                               100, 1000]},\n",
       "             return_train_score=True)</pre></div></div></div><div class=\"sk-parallel\"><div class=\"sk-parallel-item\"><div class=\"sk-item\"><div class=\"sk-label-container\"><div class=\"sk-label sk-toggleable\"><input class=\"sk-toggleable__control sk-hidden--visually\" id=\"sk-estimator-id-9\" type=\"checkbox\" ><label for=\"sk-estimator-id-9\" class=\"sk-toggleable__label sk-toggleable__label-arrow\">estimator: LogisticRegression</label><div class=\"sk-toggleable__content\"><pre>LogisticRegression(random_state=10)</pre></div></div></div><div class=\"sk-serial\"><div class=\"sk-item\"><div class=\"sk-estimator sk-toggleable\"><input class=\"sk-toggleable__control sk-hidden--visually\" id=\"sk-estimator-id-10\" type=\"checkbox\" ><label for=\"sk-estimator-id-10\" class=\"sk-toggleable__label sk-toggleable__label-arrow\">LogisticRegression</label><div class=\"sk-toggleable__content\"><pre>LogisticRegression(random_state=10)</pre></div></div></div></div></div></div></div></div></div></div>"
      ],
      "text/plain": [
       "GridSearchCV(cv=10, estimator=LogisticRegression(random_state=10), n_jobs=-1,\n",
       "             param_grid={'C': [1e-06, 1e-05, 0.0001, 0.001, 0.01, 0.1, 1, 10,\n",
       "                               100, 1000]},\n",
       "             return_train_score=True)"
      ]
     },
     "execution_count": 41,
     "metadata": {},
     "output_type": "execute_result"
    }
   ],
   "source": [
    "from sklearn.model_selection import GridSearchCV\n",
    "# grid search CV\n",
    "params = {'C': [pow(10, x) for x in range(-6, 4)]}\n",
    "\n",
    "# use all cores to tune logistic regression with C parameter\n",
    "cv = GridSearchCV(param_grid=params, estimator=LogisticRegression(random_state=rs),return_train_score=True, cv=10, n_jobs=-1)\n",
    "cv.fit(X_train, y_train)\n"
   ]
  },
  {
   "cell_type": "code",
   "execution_count": 42,
   "id": "91af308e",
   "metadata": {},
   "outputs": [
    {
     "name": "stdout",
     "output_type": "stream",
     "text": [
      "{'mean_fit_time': array([0.00961499, 0.00737245, 0.0035701 , 0.00383408, 0.00462627,\n",
      "       0.01416469, 0.00784273, 0.00754595, 0.00827587, 0.00863247]), 'std_fit_time': array([0.00418274, 0.00151586, 0.00058628, 0.00102722, 0.00192292,\n",
      "       0.00539289, 0.00476364, 0.00320042, 0.00238272, 0.00266074]), 'mean_score_time': array([0.00048082, 0.00035532, 0.0002316 , 0.00023379, 0.00031765,\n",
      "       0.00056977, 0.00031476, 0.0002274 , 0.0002413 , 0.00022597]), 'std_score_time': array([5.71757729e-04, 1.80084611e-04, 1.43107562e-05, 1.88595576e-05,\n",
      "       2.36163274e-04, 2.78843974e-04, 1.72932304e-04, 1.88250455e-05,\n",
      "       2.87486641e-05, 1.53748746e-05]), 'param_C': masked_array(data=[1e-06, 1e-05, 0.0001, 0.001, 0.01, 0.1, 1, 10, 100,\n",
      "                   1000],\n",
      "             mask=[False, False, False, False, False, False, False, False,\n",
      "                   False, False],\n",
      "       fill_value='?',\n",
      "            dtype=object), 'params': [{'C': 1e-06}, {'C': 1e-05}, {'C': 0.0001}, {'C': 0.001}, {'C': 0.01}, {'C': 0.1}, {'C': 1}, {'C': 10}, {'C': 100}, {'C': 1000}], 'split0_test_score': array([0.58411215, 0.58411215, 0.58411215, 0.67056075, 0.70560748,\n",
      "       0.71261682, 0.71261682, 0.71261682, 0.71261682, 0.71261682]), 'split1_test_score': array([0.58411215, 0.58411215, 0.58411215, 0.64485981, 0.6728972 ,\n",
      "       0.67523364, 0.67523364, 0.67523364, 0.67523364, 0.67523364]), 'split2_test_score': array([0.58411215, 0.58411215, 0.58411215, 0.69392523, 0.70794393,\n",
      "       0.71495327, 0.71495327, 0.71495327, 0.71495327, 0.71495327]), 'split3_test_score': array([0.58411215, 0.58411215, 0.58411215, 0.69392523, 0.70327103,\n",
      "       0.69392523, 0.69392523, 0.69392523, 0.69392523, 0.69392523]), 'split4_test_score': array([0.58411215, 0.58411215, 0.58878505, 0.68224299, 0.67990654,\n",
      "       0.68457944, 0.68457944, 0.68457944, 0.68457944, 0.68457944]), 'split5_test_score': array([0.58411215, 0.58411215, 0.5864486 , 0.62616822, 0.64018692,\n",
      "       0.65186916, 0.65420561, 0.65420561, 0.65420561, 0.65420561]), 'split6_test_score': array([0.58411215, 0.58411215, 0.5864486 , 0.70560748, 0.69859813,\n",
      "       0.70093458, 0.70093458, 0.70093458, 0.70093458, 0.70093458]), 'split7_test_score': array([0.58548009, 0.58548009, 0.58548009, 0.68618267, 0.68149883,\n",
      "       0.68149883, 0.68384075, 0.68384075, 0.68384075, 0.68384075]), 'split8_test_score': array([0.58313817, 0.58313817, 0.58313817, 0.69555035, 0.68852459,\n",
      "       0.68852459, 0.68852459, 0.68852459, 0.68852459, 0.68852459]), 'split9_test_score': array([0.58313817, 0.58313817, 0.58782201, 0.69320843, 0.69555035,\n",
      "       0.69555035, 0.69555035, 0.69555035, 0.69555035, 0.69555035]), 'mean_test_score': array([0.58405415, 0.58405415, 0.58545711, 0.67922312, 0.6873985 ,\n",
      "       0.68996859, 0.69043643, 0.69043643, 0.69043643, 0.69043643]), 'std_test_score': array([0.00061114, 0.00061114, 0.0017677 , 0.02391413, 0.01931043,\n",
      "       0.01753793, 0.01693175, 0.01693175, 0.01693175, 0.01693175]), 'rank_test_score': array([9, 9, 8, 7, 6, 5, 1, 1, 1, 1], dtype=int32), 'split0_train_score': array([0.5840478 , 0.5840478 , 0.58586646, 0.68693167, 0.69576513,\n",
      "       0.69732398, 0.69862302, 0.69836321, 0.69836321, 0.69836321]), 'split1_train_score': array([0.5840478 , 0.5840478 , 0.58586646, 0.69550533, 0.70537802,\n",
      "       0.70355937, 0.70329956, 0.70355937, 0.70355937, 0.70355937]), 'split2_train_score': array([0.5840478 , 0.5840478 , 0.58586646, 0.68901013, 0.6978436 ,\n",
      "       0.6944661 , 0.69394648, 0.69342686, 0.69342686, 0.69342686]), 'split3_train_score': array([0.5840478 , 0.5840478 , 0.58586646, 0.69212783, 0.69654456,\n",
      "       0.69862302, 0.69888283, 0.69914263, 0.69914263, 0.69914263]), 'split4_train_score': array([0.5840478 , 0.5840478 , 0.58534684, 0.68745129, 0.69524552,\n",
      "       0.69602494, 0.69654456, 0.69706417, 0.69680436, 0.69706417]), 'split5_train_score': array([0.5840478 , 0.5840478 , 0.58560665, 0.69602494, 0.70849571,\n",
      "       0.71005456, 0.70901533, 0.70823591, 0.70823591, 0.70823591]), 'split6_train_score': array([0.5840478 , 0.5840478 , 0.58534684, 0.68537282, 0.69368667,\n",
      "       0.69342686, 0.69316706, 0.69342686, 0.69342686, 0.69342686]), 'split7_train_score': array([0.5838961 , 0.5838961 , 0.58571429, 0.68727273, 0.6987013 ,\n",
      "       0.69792208, 0.69792208, 0.69792208, 0.69818182, 0.69818182]), 'split8_train_score': array([0.58415584, 0.58415584, 0.58623377, 0.68493506, 0.69844156,\n",
      "       0.69792208, 0.69662338, 0.69662338, 0.69662338, 0.69662338]), 'split9_train_score': array([0.58415584, 0.58415584, 0.58519481, 0.68649351, 0.69402597,\n",
      "       0.6961039 , 0.69532468, 0.69558442, 0.69558442, 0.69558442]), 'mean_train_score': array([0.58405424, 0.58405424, 0.5856909 , 0.68911253, 0.6984128 ,\n",
      "       0.69854269, 0.6983349 , 0.69833489, 0.69833488, 0.69836086]), 'std_train_score': array([6.77818078e-05, 6.77818078e-05, 3.01412035e-04, 3.83338517e-03,\n",
      "       4.61194269e-03, 4.63712496e-03, 4.47698538e-03, 4.31781739e-03,\n",
      "       4.32453780e-03, 4.31603686e-03])}\n"
     ]
    }
   ],
   "source": [
    "result_set = cv.cv_results_\n",
    "print(result_set)"
   ]
  },
  {
   "cell_type": "code",
   "execution_count": 43,
   "id": "2d6a00b9",
   "metadata": {},
   "outputs": [
    {
     "name": "stdout",
     "output_type": "stream",
     "text": [
      "Total number of models:  10\n"
     ]
    },
    {
     "data": {
      "image/png": "[encoded data removed]",
      "text/plain": [
       "<Figure size 640x480 with 1 Axes>"
      ]
     },
     "metadata": {},
     "output_type": "display_data"
    }
   ],
   "source": [
    "#plot the train and test score of split0.\n",
    "import matplotlib.pyplot as plt\n",
    "train_result = result_set['split0_train_score']\n",
    "test_result = result_set['split0_test_score']\n",
    "print(\"Total number of models: \", len(test_result))\n",
    "# plot Hyperparameter C values vs training and test accuracy score\n",
    "plt.plot(range(0, len(train_result)), train_result, 'b', range(0,len(test_result)), test_result, 'r')\n",
    "plt.xlabel('Hyperparameter C\\nBlue = training acc. Red = test acc.')\n",
    "plt.xticks(range(0, len(train_result)),[pow(10, x) for x in range(-6, 4)])\n",
    "plt.ylabel('score')\n",
    "plt.show()"
   ]
  },
  {
   "cell_type": "markdown",
   "id": "2a38e64d",
   "metadata": {},
   "source": [
    "From the figure above, the optimal value for C is 0.01. However this will not be the final choice as we have 9 more splits to consider. Now, let us plot the mean train and test score for all the splits."
   ]
  },
  {
   "cell_type": "code",
   "execution_count": 44,
   "id": "d5bed646",
   "metadata": {},
   "outputs": [
    {
     "name": "stdout",
     "output_type": "stream",
     "text": [
      "Total number of models:  10\n"
     ]
    },
    {
     "data": {
      "image/png": "[encoded data removed]",
      "text/plain": [
       "<Figure size 640x480 with 1 Axes>"
      ]
     },
     "metadata": {},
     "output_type": "display_data"
    }
   ],
   "source": [
    "import matplotlib.pyplot as plt\n",
    "\n",
    "train_result = result_set['mean_train_score']\n",
    "test_result = result_set['mean_test_score']\n",
    "print(\"Total number of models: \", len(test_result))\n",
    "# plot Hyperparameter C values vs training and test accuracy score\n",
    "plt.plot(range(0, len(train_result)), train_result, 'b', range(0,len(test_result)), test_result, 'r')\n",
    "plt.xlabel('Hyperparameter C\\nBlue = training acc. Red = test acc.')\n",
    "plt.xticks(range(0, len(train_result)),[pow(10, x) for x in range(-6, 4)])\n",
    "plt.ylabel('score')\n",
    "plt.show()"
   ]
  },
  {
   "cell_type": "markdown",
   "id": "64d447ec",
   "metadata": {},
   "source": [
    "From the above figure it can be noted that the default logistic regression model with parameter C=1 overfits. This figure ascertains that setting C > 0.01 causes the model to be overfiting (the test error beyond this point degrades regrardless of slight improvement in training accuracy error)."
   ]
  },
  {
   "cell_type": "code",
   "execution_count": 45,
   "id": "97ef9c51",
   "metadata": {},
   "outputs": [
    {
     "name": "stdout",
     "output_type": "stream",
     "text": [
      "{'C': 1}\n"
     ]
    }
   ],
   "source": [
    "print(cv.best_params_)"
   ]
  },
  {
   "cell_type": "code",
   "execution_count": 46,
   "id": "27e82878",
   "metadata": {},
   "outputs": [
    {
     "name": "stdout",
     "output_type": "stream",
     "text": [
      "Train accuracy: 0.6972176759410802\n",
      "Test accuracy: 0.6879432624113475\n"
     ]
    }
   ],
   "source": [
    "cv.fit(X_train, y_train)\n",
    "\n",
    "print(\"Train accuracy:\", cv.score(X_train, y_train))\n",
    "print(\"Test accuracy:\", cv.score(X_test, y_test))"
   ]
  },
  {
   "cell_type": "code",
   "execution_count": 47,
   "id": "4175fc53",
   "metadata": {},
   "outputs": [
    {
     "data": {
      "text/html": [
       "<style>#sk-container-id-7 {color: black;background-color: white;}#sk-container-id-7 pre{padding: 0;}#sk-container-id-7 div.sk-toggleable {background-color: white;}#sk-container-id-7 label.sk-toggleable__label {cursor: pointer;display: block;width: 100%;margin-bottom: 0;padding: 0.3em;box-sizing: border-box;text-align: center;}#sk-container-id-7 label.sk-toggleable__label-arrow:before {content: \"▸\";float: left;margin-right: 0.25em;color: #696969;}#sk-container-id-7 label.sk-toggleable__label-arrow:hover:before {color: black;}#sk-container-id-7 div.sk-estimator:hover label.sk-toggleable__label-arrow:before {color: black;}#sk-container-id-7 div.sk-toggleable__content {max-height: 0;max-width: 0;overflow: hidden;text-align: left;background-color: #f0f8ff;}#sk-container-id-7 div.sk-toggleable__content pre {margin: 0.2em;color: black;border-radius: 0.25em;background-color: #f0f8ff;}#sk-container-id-7 input.sk-toggleable__control:checked~div.sk-toggleable__content {max-height: 200px;max-width: 100%;overflow: auto;}#sk-container-id-7 input.sk-toggleable__control:checked~label.sk-toggleable__label-arrow:before {content: \"▾\";}#sk-container-id-7 div.sk-estimator input.sk-toggleable__control:checked~label.sk-toggleable__label {background-color: #d4ebff;}#sk-container-id-7 div.sk-label input.sk-toggleable__control:checked~label.sk-toggleable__label {background-color: #d4ebff;}#sk-container-id-7 input.sk-hidden--visually {border: 0;clip: rect(1px 1px 1px 1px);clip: rect(1px, 1px, 1px, 1px);height: 1px;margin: -1px;overflow: hidden;padding: 0;position: absolute;width: 1px;}#sk-container-id-7 div.sk-estimator {font-family: monospace;background-color: #f0f8ff;border: 1px dotted black;border-radius: 0.25em;box-sizing: border-box;margin-bottom: 0.5em;}#sk-container-id-7 div.sk-estimator:hover {background-color: #d4ebff;}#sk-container-id-7 div.sk-parallel-item::after {content: \"\";width: 100%;border-bottom: 1px solid gray;flex-grow: 1;}#sk-container-id-7 div.sk-label:hover label.sk-toggleable__label {background-color: #d4ebff;}#sk-container-id-7 div.sk-serial::before {content: \"\";position: absolute;border-left: 1px solid gray;box-sizing: border-box;top: 0;bottom: 0;left: 50%;z-index: 0;}#sk-container-id-7 div.sk-serial {display: flex;flex-direction: column;align-items: center;background-color: white;padding-right: 0.2em;padding-left: 0.2em;position: relative;}#sk-container-id-7 div.sk-item {position: relative;z-index: 1;}#sk-container-id-7 div.sk-parallel {display: flex;align-items: stretch;justify-content: center;background-color: white;position: relative;}#sk-container-id-7 div.sk-item::before, #sk-container-id-7 div.sk-parallel-item::before {content: \"\";position: absolute;border-left: 1px solid gray;box-sizing: border-box;top: 0;bottom: 0;left: 50%;z-index: -1;}#sk-container-id-7 div.sk-parallel-item {display: flex;flex-direction: column;z-index: 1;position: relative;background-color: white;}#sk-container-id-7 div.sk-parallel-item:first-child::after {align-self: flex-end;width: 50%;}#sk-container-id-7 div.sk-parallel-item:last-child::after {align-self: flex-start;width: 50%;}#sk-container-id-7 div.sk-parallel-item:only-child::after {width: 0;}#sk-container-id-7 div.sk-dashed-wrapped {border: 1px dashed gray;margin: 0 0.4em 0.5em 0.4em;box-sizing: border-box;padding-bottom: 0.4em;background-color: white;}#sk-container-id-7 div.sk-label label {font-family: monospace;font-weight: bold;display: inline-block;line-height: 1.2em;}#sk-container-id-7 div.sk-label-container {text-align: center;}#sk-container-id-7 div.sk-container {/* jupyter's `normalize.less` sets `[hidden] { display: none; }` but bootstrap.min.css set `[hidden] { display: none !important; }` so we also need the `!important` here to be able to override the default hidden behavior on the sphinx rendered scikit-learn.org. See: https://github.com/scikit-learn/scikit-learn/issues/21755 */display: inline-block !important;position: relative;}#sk-container-id-7 div.sk-text-repr-fallback {display: none;}</style><div id=\"sk-container-id-7\" class=\"sk-top-container\"><div class=\"sk-text-repr-fallback\"><pre>LogisticRegression(C=1, random_state=10)</pre><b>In a Jupyter environment, please rerun this cell to show the HTML representation or trust the notebook. <br />On GitHub, the HTML representation is unable to render, please try loading this page with nbviewer.org.</b></div><div class=\"sk-container\" hidden><div class=\"sk-item\"><div class=\"sk-estimator sk-toggleable\"><input class=\"sk-toggleable__control sk-hidden--visually\" id=\"sk-estimator-id-11\" type=\"checkbox\" checked><label for=\"sk-estimator-id-11\" class=\"sk-toggleable__label sk-toggleable__label-arrow\">LogisticRegression</label><div class=\"sk-toggleable__content\"><pre>LogisticRegression(C=1, random_state=10)</pre></div></div></div></div></div>"
      ],
      "text/plain": [
       "LogisticRegression(C=1, random_state=10)"
      ]
     },
     "execution_count": 47,
     "metadata": {},
     "output_type": "execute_result"
    }
   ],
   "source": [
    "best_model = cv.best_estimator_\n",
    "best_model"
   ]
  },
  {
   "cell_type": "code",
   "execution_count": 48,
   "id": "2093d96c",
   "metadata": {},
   "outputs": [
    {
     "name": "stdout",
     "output_type": "stream",
     "text": [
      "income_high : -0.34844713108961634\n",
      "income_med : 0.31667122600071024\n",
      "weight : 0.31627310913582046\n",
      "height : -0.24890769133540921\n",
      "house_count : 0.23994946265422906\n",
      "age_100_110 : 0.2321221864216097\n",
      "age_90_100 : 0.20239669226349405\n",
      "working_travel critical : 0.16580021078791768\n",
      "age_80_90 : 0.1521012678897797\n",
      "age_60_70 : -0.15145331248787178\n",
      "immigrant : -0.14155120970206425\n",
      "insurance : 0.13528531552068518\n",
      "worried : 0.10863281254625606\n",
      "working_home : -0.09607252177663285\n",
      "age_70_80 : -0.09300041143806471\n",
      "age_20_30 : 0.08577206216715834\n",
      "working_travel non critical : -0.08072391097706541\n",
      "gender_other : 0.08030661091914368\n",
      "blood_type_abp : 0.07382112118643376\n",
      "gender_female : -0.06861753815134271\n"
     ]
    }
   ],
   "source": [
    "# grab feature importances from the model and feature name from the original X\n",
    "coef = best_model.coef_[0]\n",
    "feature_names = X.columns\n",
    "\n",
    "# sort them out in descending order\n",
    "indices = np.argsort(np.absolute(coef))\n",
    "indices = np.flip(indices, axis=0)\n",
    "\n",
    "# limit to 20 features, you can leave this out to print out everything\n",
    "indices = indices[:20]\n",
    "\n",
    "for i in indices:\n",
    "    print(feature_names[i], ':', coef[i])"
   ]
  },
  {
   "cell_type": "markdown",
   "id": "a8c1f462",
   "metadata": {},
   "source": [
    "## Feature selection using Recursive Feature Elimination"
   ]
  },
  {
   "cell_type": "code",
   "execution_count": 49,
   "id": "c48faa57",
   "metadata": {},
   "outputs": [
    {
     "name": "stdout",
     "output_type": "stream",
     "text": [
      "Original feature set 54\n",
      "Number of features after elimination 41\n"
     ]
    }
   ],
   "source": [
    "from sklearn.feature_selection import RFECV\n",
    "\n",
    "rfe = RFECV(estimator = LogisticRegression(random_state=rs), cv=10)\n",
    "rfe.fit(X_train, y_train) # run the RFECV\n",
    "\n",
    "# comparing how many variables before and after\n",
    "print(\"Original feature set\", X_train.shape[1])\n",
    "print(\"Number of features after elimination\", rfe.n_features_)"
   ]
  },
  {
   "cell_type": "code",
   "execution_count": 50,
   "id": "6f1b4ede",
   "metadata": {},
   "outputs": [],
   "source": [
    "# .transform() the original input set taking only the important features.\n",
    "X_train_sel = rfe.transform(X_train)\n",
    "X_test_sel = rfe.transform(X_test)"
   ]
  },
  {
   "cell_type": "code",
   "execution_count": 51,
   "id": "0efae8ac",
   "metadata": {},
   "outputs": [
    {
     "name": "stdout",
     "output_type": "stream",
     "text": [
      "Train accuracy: 0.6958148234743979\n",
      "Test accuracy: 0.6901254773595199\n",
      "              precision    recall  f1-score   support\n",
      "\n",
      "           0       0.71      0.79      0.75      1070\n",
      "           1       0.65      0.55      0.60       763\n",
      "\n",
      "    accuracy                           0.69      1833\n",
      "   macro avg       0.68      0.67      0.67      1833\n",
      "weighted avg       0.69      0.69      0.69      1833\n",
      "\n",
      "{'C': 0.1}\n"
     ]
    }
   ],
   "source": [
    "# grid search CV\n",
    "params = {'C': [pow(10, x) for x in range(-6, 4)]}\n",
    "\n",
    "rfe_cv = GridSearchCV(param_grid=params, estimator=LogisticRegression(random_state=rs), cv=10, n_jobs=-1)\n",
    "rfe_cv.fit(X_train_sel, y_train)\n",
    "\n",
    "# test the best model\n",
    "print(\"Train accuracy:\", rfe_cv.score(X_train_sel, y_train))\n",
    "print(\"Test accuracy:\", rfe_cv.score(X_test_sel, y_test))\n",
    "\n",
    "y_pred = rfe_cv.predict(X_test_sel)\n",
    "print(classification_report(y_test, y_pred))\n",
    "\n",
    "# print parameters of the best model\n",
    "print(rfe_cv.best_params_)"
   ]
  },
  {
   "cell_type": "code",
   "execution_count": 52,
   "id": "86651b4f",
   "metadata": {},
   "outputs": [
    {
     "data": {
      "text/html": [
       "<style>#sk-container-id-8 {color: black;background-color: white;}#sk-container-id-8 pre{padding: 0;}#sk-container-id-8 div.sk-toggleable {background-color: white;}#sk-container-id-8 label.sk-toggleable__label {cursor: pointer;display: block;width: 100%;margin-bottom: 0;padding: 0.3em;box-sizing: border-box;text-align: center;}#sk-container-id-8 label.sk-toggleable__label-arrow:before {content: \"▸\";float: left;margin-right: 0.25em;color: #696969;}#sk-container-id-8 label.sk-toggleable__label-arrow:hover:before {color: black;}#sk-container-id-8 div.sk-estimator:hover label.sk-toggleable__label-arrow:before {color: black;}#sk-container-id-8 div.sk-toggleable__content {max-height: 0;max-width: 0;overflow: hidden;text-align: left;background-color: #f0f8ff;}#sk-container-id-8 div.sk-toggleable__content pre {margin: 0.2em;color: black;border-radius: 0.25em;background-color: #f0f8ff;}#sk-container-id-8 input.sk-toggleable__control:checked~div.sk-toggleable__content {max-height: 200px;max-width: 100%;overflow: auto;}#sk-container-id-8 input.sk-toggleable__control:checked~label.sk-toggleable__label-arrow:before {content: \"▾\";}#sk-container-id-8 div.sk-estimator input.sk-toggleable__control:checked~label.sk-toggleable__label {background-color: #d4ebff;}#sk-container-id-8 div.sk-label input.sk-toggleable__control:checked~label.sk-toggleable__label {background-color: #d4ebff;}#sk-container-id-8 input.sk-hidden--visually {border: 0;clip: rect(1px 1px 1px 1px);clip: rect(1px, 1px, 1px, 1px);height: 1px;margin: -1px;overflow: hidden;padding: 0;position: absolute;width: 1px;}#sk-container-id-8 div.sk-estimator {font-family: monospace;background-color: #f0f8ff;border: 1px dotted black;border-radius: 0.25em;box-sizing: border-box;margin-bottom: 0.5em;}#sk-container-id-8 div.sk-estimator:hover {background-color: #d4ebff;}#sk-container-id-8 div.sk-parallel-item::after {content: \"\";width: 100%;border-bottom: 1px solid gray;flex-grow: 1;}#sk-container-id-8 div.sk-label:hover label.sk-toggleable__label {background-color: #d4ebff;}#sk-container-id-8 div.sk-serial::before {content: \"\";position: absolute;border-left: 1px solid gray;box-sizing: border-box;top: 0;bottom: 0;left: 50%;z-index: 0;}#sk-container-id-8 div.sk-serial {display: flex;flex-direction: column;align-items: center;background-color: white;padding-right: 0.2em;padding-left: 0.2em;position: relative;}#sk-container-id-8 div.sk-item {position: relative;z-index: 1;}#sk-container-id-8 div.sk-parallel {display: flex;align-items: stretch;justify-content: center;background-color: white;position: relative;}#sk-container-id-8 div.sk-item::before, #sk-container-id-8 div.sk-parallel-item::before {content: \"\";position: absolute;border-left: 1px solid gray;box-sizing: border-box;top: 0;bottom: 0;left: 50%;z-index: -1;}#sk-container-id-8 div.sk-parallel-item {display: flex;flex-direction: column;z-index: 1;position: relative;background-color: white;}#sk-container-id-8 div.sk-parallel-item:first-child::after {align-self: flex-end;width: 50%;}#sk-container-id-8 div.sk-parallel-item:last-child::after {align-self: flex-start;width: 50%;}#sk-container-id-8 div.sk-parallel-item:only-child::after {width: 0;}#sk-container-id-8 div.sk-dashed-wrapped {border: 1px dashed gray;margin: 0 0.4em 0.5em 0.4em;box-sizing: border-box;padding-bottom: 0.4em;background-color: white;}#sk-container-id-8 div.sk-label label {font-family: monospace;font-weight: bold;display: inline-block;line-height: 1.2em;}#sk-container-id-8 div.sk-label-container {text-align: center;}#sk-container-id-8 div.sk-container {/* jupyter's `normalize.less` sets `[hidden] { display: none; }` but bootstrap.min.css set `[hidden] { display: none !important; }` so we also need the `!important` here to be able to override the default hidden behavior on the sphinx rendered scikit-learn.org. See: https://github.com/scikit-learn/scikit-learn/issues/21755 */display: inline-block !important;position: relative;}#sk-container-id-8 div.sk-text-repr-fallback {display: none;}</style><div id=\"sk-container-id-8\" class=\"sk-top-container\"><div class=\"sk-text-repr-fallback\"><pre>LogisticRegression(C=0.1, random_state=10)</pre><b>In a Jupyter environment, please rerun this cell to show the HTML representation or trust the notebook. <br />On GitHub, the HTML representation is unable to render, please try loading this page with nbviewer.org.</b></div><div class=\"sk-container\" hidden><div class=\"sk-item\"><div class=\"sk-estimator sk-toggleable\"><input class=\"sk-toggleable__control sk-hidden--visually\" id=\"sk-estimator-id-12\" type=\"checkbox\" checked><label for=\"sk-estimator-id-12\" class=\"sk-toggleable__label sk-toggleable__label-arrow\">LogisticRegression</label><div class=\"sk-toggleable__content\"><pre>LogisticRegression(C=0.1, random_state=10)</pre></div></div></div></div></div>"
      ],
      "text/plain": [
       "LogisticRegression(C=0.1, random_state=10)"
      ]
     },
     "execution_count": 52,
     "metadata": {},
     "output_type": "execute_result"
    }
   ],
   "source": [
    "rfe_cv_best_model = rfe_cv.best_estimator_\n",
    "rfe_cv_best_model"
   ]
  },
  {
   "cell_type": "code",
   "execution_count": 53,
   "id": "de316805",
   "metadata": {},
   "outputs": [
    {
     "name": "stdout",
     "output_type": "stream",
     "text": [
      "blood_type_bp : -0.3515631356346242\n",
      "weight : 0.3106718032352313\n",
      "blood_type_on : 0.308421552902226\n",
      "height : -0.24135650526833272\n",
      "contacts_count : 0.23656491030346508\n",
      "age_80_90 : 0.19907273644245377\n",
      "age_0_10 : 0.15991103130321158\n",
      "race_other : 0.15961691516364976\n",
      "age_70_80 : 0.15092206674365827\n",
      "age_50_60 : -0.14880016086078554\n",
      "immigrant : -0.13980107476072343\n",
      "insurance : 0.1336095498651769\n",
      "house_count : 0.10819222861638948\n",
      "race_hispanic : -0.09802034651466558\n",
      "age_60_70 : -0.09021696844309844\n",
      "age_10_20 : 0.0854964708210601\n",
      "race_white : -0.08311821967339524\n",
      "gender_male : 0.07858318298556796\n",
      "blood_type_abn : 0.07662240649711136\n",
      "income_med : -0.07165688642502063\n"
     ]
    }
   ],
   "source": [
    "# grab feature importances from the model and feature name from the original X\n",
    "coef = rfe_cv_best_model.coef_[0]\n",
    "feature_names = X.columns\n",
    "\n",
    "# sort them out in descending order\n",
    "indices = np.argsort(np.absolute(coef))\n",
    "indices = np.flip(indices, axis=0)\n",
    "\n",
    "# limit to 20 features, you can leave this out to print out everything\n",
    "indices = indices[:20]\n",
    "\n",
    "for i in indices:\n",
    "    print(feature_names[i], ':', coef[i])"
   ]
  },
  {
   "cell_type": "markdown",
   "id": "f81f7917",
   "metadata": {},
   "source": [
    "## Find Best model using ROC curve"
   ]
  },
  {
   "cell_type": "code",
   "execution_count": 27,
   "id": "41fea111",
   "metadata": {},
   "outputs": [
    {
     "name": "stdout",
     "output_type": "stream",
     "text": [
      "ROC index on test for `model`: 0.7416947367131711\n",
      "ROC index on test for `cv`: 0.7416947367131711\n",
      "ROC index on test for `rfe_cv`: 0.7421908109895764\n"
     ]
    }
   ],
   "source": [
    "### Enter your code \n",
    "from sklearn.metrics import roc_auc_score\n",
    "\n",
    "y_pred_proba_lr = model.predict_proba(X_test)\n",
    "y_pred_proba_lr_cv = cv.predict_proba(X_test)\n",
    "y_pred_proba_rfe_cv = rfe_cv.predict_proba(X_test_sel)\n",
    "\n",
    "\n",
    "roc_index_lr = roc_auc_score(y_test, y_pred_proba_lr[:, 1])\n",
    "roc_index_lr_cv = roc_auc_score(y_test, y_pred_proba_lr_cv[:, 1])\n",
    "roc_index_rfe_cv = roc_auc_score(y_test, y_pred_proba_rfe_cv[:, 1])\n",
    "\n",
    "print(\"ROC index on test for `model`:\", roc_index_lr)\n",
    "print(\"ROC index on test for `cv`:\", roc_index_lr_cv)\n",
    "print(\"ROC index on test for `rfe_cv`:\", roc_index_rfe_cv)\n"
   ]
  },
  {
   "cell_type": "code",
   "execution_count": 28,
   "id": "64eea5aa",
   "metadata": {},
   "outputs": [],
   "source": [
    "from sklearn.metrics import roc_curve\n",
    "\n",
    "fpr_lr, tpr_lr, thresholds_lr = roc_curve(y_test, y_pred_proba_lr[:,1])\n",
    "fpr_lr_cv, tpr_lr_cv, thresholds_lr_cv = roc_curve(y_test, y_pred_proba_lr_cv[:,1])\n",
    "fpr_rfe_cv, tpr_rfe_cv, thresholds_rfe_cv = roc_curve(y_test, y_pred_proba_rfe_cv[:,1])\n"
   ]
  },
  {
   "cell_type": "code",
   "execution_count": 29,
   "id": "afc0f511",
   "metadata": {},
   "outputs": [
    {
     "data": {
      "image/png": "[encoded data removed]",
      "text/plain": [
       "<Figure size 640x480 with 1 Axes>"
      ]
     },
     "metadata": {},
     "output_type": "display_data"
    }
   ],
   "source": [
    "import matplotlib.pyplot as plt\n",
    "\n",
    "plt.plot(fpr_lr, tpr_lr, label='ROC Curve for `model` {:.3f}'.format(roc_index_lr), color='red', lw=0.5)\n",
    "plt.plot(fpr_lr_cv, tpr_lr_cv, label='ROC Curve for `cv` {:.3f}'.format(roc_index_lr_cv), color='green', lw=0.5)\n",
    "plt.plot(fpr_rfe_cv, tpr_rfe_cv, label='ROC Curve for `rfe_cv` {:.3f}'.format(roc_index_rfe_cv), color='blue', lw=0.5)\n",
    "\n",
    "plt.plot([0, 1], [0, 1], color='navy', lw=0.5, linestyle='--')\n",
    "plt.xlim([0.0, 1.0])\n",
    "plt.ylim([0.0, 1.0])\n",
    "plt.xlabel('False Positive Rate')\n",
    "plt.ylabel('True Positive Rate')\n",
    "plt.title('Receiver operating characteristic example')\n",
    "plt.legend(loc=\"lower right\")\n",
    "plt.show()"
   ]
  },
  {
   "cell_type": "markdown",
   "id": "656188cf",
   "metadata": {},
   "source": [
    "## save output"
   ]
  },
  {
   "cell_type": "code",
   "execution_count": 31,
   "id": "bdde0384",
   "metadata": {},
   "outputs": [],
   "source": [
    "### Enter your code\n",
    "import pickle\n",
    "lr_best = rfe_cv\n",
    "roc_index_lr_best = roc_index_rfe_cv\n",
    "tpr_lr_best = tpr_rfe_cv\n",
    "fpr_lr_best = fpr_rfe_cv\n",
    "with open('LR.pickle', 'wb') as f:\n",
    "    pickle.dump([lr_best,roc_index_lr_best, fpr_lr_best, tpr_lr_best], f)"
   ]
  }
 ],
 "metadata": {
  "kernelspec": {
   "display_name": "Python 3 (ipykernel)",
   "language": "python",
   "name": "python3"
  },
  "language_info": {
   "codemirror_mode": {
    "name": "ipython",
    "version": 3
   },
   "file_extension": ".py",
   "mimetype": "text/x-python",
   "name": "python",
   "nbconvert_exporter": "python",
   "pygments_lexer": "ipython3",
   "version": "3.9.13"
  }
 },
 "nbformat": 4,
 "nbformat_minor": 5
}
